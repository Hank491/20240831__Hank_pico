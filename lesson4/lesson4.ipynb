{
 "cells": [
  {
   "cell_type": "code",
   "execution_count": 3,
   "metadata": {},
   "outputs": [
    {
     "name": "stdout",
     "output_type": "stream",
     "text": [
      "小於18\n",
      "程式結束\n"
     ]
    }
   ],
   "source": [
    "#if\n",
    "age=17\n",
    "if age < 18:\n",
    "    print(\"小於18\")\n",
    "else:\n",
    "    print(\"大於等於18\")\n",
    "print(\"程式結束\")\n"
   ]
  },
  {
   "cell_type": "code",
   "execution_count": 19,
   "metadata": {},
   "outputs": [
    {
     "name": "stdout",
     "output_type": "stream",
     "text": [
      "已經加分\n",
      "分數是-105.0\n"
     ]
    }
   ],
   "source": [
    "score = int(input(\"分數\"))\n",
    "is_Dass = input( \"是否加分(yes or No)\")\n",
    "\n",
    "if is_Dass == 'y':\n",
    "    score *= 1.05\n",
    "    print('已經加分')\n",
    "    if score>300:\n",
    "        score =300\n",
    "print(f'分數是{score}')"
   ]
  },
  {
   "cell_type": "code",
   "execution_count": 25,
   "metadata": {},
   "outputs": [
    {
     "name": "stdout",
     "output_type": "stream",
     "text": [
      "已經加分\n",
      "分數是0.0\n",
      "程式結束\n"
     ]
    }
   ],
   "source": [
    "try:    \n",
    "    score = int(input(\"分數\"))\n",
    "except ValueError:\n",
    "    print('輸入格式錯誤')\n",
    "except:\n",
    "    print('輸入錯誤')\n",
    "\n",
    "else:    \n",
    "    if score<0:\n",
    "       print('輸入錯誤')\n",
    "    else:     \n",
    "        is_Dass = input( \"是否加分(yes or No)\")\n",
    "\n",
    "        if is_Dass == 'y':\n",
    "            score *= 1.05\n",
    "            print('已經加分')\n",
    "            if score>300:\n",
    "                score =300\n",
    "        print(f'分數是{score}')\n",
    "\n",
    "print('程式結束')"
   ]
  }
 ],
 "metadata": {
  "kernelspec": {
   "display_name": "vene1",
   "language": "python",
   "name": "python3"
  },
  "language_info": {
   "codemirror_mode": {
    "name": "ipython",
    "version": 3
   },
   "file_extension": ".py",
   "mimetype": "text/x-python",
   "name": "python",
   "nbconvert_exporter": "python",
   "pygments_lexer": "ipython3",
   "version": "3.11.9"
  }
 },
 "nbformat": 4,
 "nbformat_minor": 2
}
