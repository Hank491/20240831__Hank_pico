{
 "cells": [
  {
   "cell_type": "code",
   "execution_count": 3,
   "metadata": {},
   "outputs": [
    {
     "name": "stdout",
     "output_type": "stream",
     "text": [
      "小於18\n",
      "程式結束\n"
     ]
    }
   ],
   "source": [
    "#if\n",
    "age=17\n",
    "if age < 18:\n",
    "    print(\"小於18\")\n",
    "else:\n",
    "    print(\"大於等於18\")\n",
    "print(\"程式結束\")\n"
   ]
  },
  {
   "cell_type": "code",
   "execution_count": 19,
   "metadata": {},
   "outputs": [
    {
     "name": "stdout",
     "output_type": "stream",
     "text": [
      "已經加分\n",
      "分數是-105.0\n"
     ]
    }
   ],
   "source": [
    "score = int(input(\"分數\"))\n",
    "is_Dass = input( \"是否加分(yes or No)\")\n",
    "\n",
    "if is_Dass == 'y':\n",
    "    score *= 1.05\n",
    "    print('已經加分')\n",
    "    if score>300:\n",
    "        score =300\n",
    "print(f'分數是{score}')"
   ]
  },
  {
   "cell_type": "code",
   "execution_count": 28,
   "metadata": {},
   "outputs": [
    {
     "name": "stdout",
     "output_type": "stream",
     "text": [
      "輸入錯誤310\n",
      "程式結束\n"
     ]
    }
   ],
   "source": [
    "try:    \n",
    "    score = int(input(\"分數\"))\n",
    "    if score > 300:\n",
    "            raise Exception(\"超過300分\")\n",
    "except ValueError:\n",
    "    print('輸入格式錯誤')\n",
    "except Exception as e:\n",
    "    print(f'輸入錯誤{score}')\n",
    "\n",
    "else:    \n",
    "    if score<0:\n",
    "       print('輸入錯誤')\n",
    "    else:     \n",
    "        is_Dass = input( \"是否加分(yes or No)\")\n",
    "\n",
    "        if is_Dass == 'y':\n",
    "            score *= 1.05\n",
    "            print('已經加分')\n",
    "            if score>300:\n",
    "                score =300\n",
    "        print(f'分數是{score}')\n",
    "\n",
    "print('程式結束')"
   ]
  },
  {
   "cell_type": "code",
   "execution_count": 39,
   "metadata": {},
   "outputs": [
    {
     "name": "stdout",
     "output_type": "stream",
     "text": [
      "90以上\n"
     ]
    }
   ],
   "source": [
    "value = int(input(\"分數\"))\n",
    "if value >=90:\n",
    "    print(\"90以上\")\n",
    "elif value >=80:\n",
    "    print(\"90以下，大於等於80\")\n",
    "elif value >=70:\n",
    "    print(\"80以下，大於等於70\")\n",
    "elif value >=60:\n",
    "    print(\"70以下，大於等於60\")\n",
    "else:\n",
    "    print(\"60以下\")"
   ]
  },
  {
   "cell_type": "code",
   "execution_count": 41,
   "metadata": {},
   "outputs": [
    {
     "name": "stdout",
     "output_type": "stream",
     "text": [
      "程式結束\n"
     ]
    }
   ],
   "source": [
    "try:    \n",
    "    cm = int(input(\"請輸入身高(公分):\"))\n",
    "    if cm > 200:\n",
    "            raise Exception(\"超過200公分\")\n",
    "except ValueError:\n",
    "    print('輸入格式錯誤')\n",
    "except Exception as e:\n",
    "    print(f'輸入錯誤{cm}')\n",
    "\n",
    "try:    \n",
    "    kg = int(input(\"請輸入體重(公斤):\"))\n",
    "    if kg > 300:\n",
    "          raise Exception(\"超過300公分\")\n",
    "except ValueError:\n",
    "    print('輸入格式錯誤')\n",
    "except Exception as e:\n",
    "    print(f'輸入錯誤{kg}')\n",
    "\n",
    "\n",
    "\n",
    "print('程式結束')"
   ]
  }
 ],
 "metadata": {
  "kernelspec": {
   "display_name": "vene1",
   "language": "python",
   "name": "python3"
  },
  "language_info": {
   "codemirror_mode": {
    "name": "ipython",
    "version": 3
   },
   "file_extension": ".py",
   "mimetype": "text/x-python",
   "name": "python",
   "nbconvert_exporter": "python",
   "pygments_lexer": "ipython3",
   "version": "3.11.9"
  }
 },
 "nbformat": 4,
 "nbformat_minor": 2
}
